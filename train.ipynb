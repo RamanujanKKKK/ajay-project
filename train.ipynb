{
 "cells": [
  {
   "cell_type": "markdown",
   "metadata": {},
   "source": [
    "IMPORTS"
   ]
  },
  {
   "cell_type": "code",
   "execution_count": 2,
   "metadata": {},
   "outputs": [],
   "source": [
    "import tensorflow as tf\n",
    "import numpy as np\n",
    "import os"
   ]
  },
  {
   "cell_type": "markdown",
   "metadata": {},
   "source": [
    "LOAD AND PREPROCESS  DATASET"
   ]
  },
  {
   "cell_type": "code",
   "execution_count": 3,
   "metadata": {},
   "outputs": [],
   "source": [
    "from tensorflow.keras.preprocessing import image_dataset_from_directory\n",
    "from sklearn.model_selection import train_test_split"
   ]
  },
  {
   "cell_type": "code",
   "execution_count": 5,
   "metadata": {},
   "outputs": [],
   "source": [
    "# Define the path to your dataset directory\n",
    "dataset_dir = \"dataset/train\"\n",
    "\n",
    "# Parameters\n",
    "batch_size = 32\n",
    "img_height = 256  # Resize height for MRI images\n",
    "img_width = 256   # Resize width for MRI images\n",
    "validation_split = 0.2  # 20% data for validation"
   ]
  },
  {
   "cell_type": "code",
   "execution_count": 6,
   "metadata": {},
   "outputs": [
    {
     "name": "stdout",
     "output_type": "stream",
     "text": [
      "Found 3253 files belonging to 2 classes.\n",
      "Using 2603 files for training.\n",
      "Found 3253 files belonging to 2 classes.\n",
      "Using 650 files for validation.\n"
     ]
    }
   ],
   "source": [
    "# Load dataset and split into training and validation sets\n",
    "train_ds = image_dataset_from_directory(\n",
    "    dataset_dir,\n",
    "    validation_split=validation_split,\n",
    "    subset=\"training\",\n",
    "    seed=123,\n",
    "    image_size=(img_height, img_width),\n",
    "    batch_size=batch_size\n",
    ")\n",
    "\n",
    "val_ds = image_dataset_from_directory(\n",
    "    dataset_dir,\n",
    "    validation_split=validation_split,\n",
    "    subset=\"validation\",\n",
    "    seed=123,\n",
    "    image_size=(img_height, img_width),\n",
    "    batch_size=batch_size\n",
    ")"
   ]
  },
  {
   "cell_type": "code",
   "execution_count": 7,
   "metadata": {},
   "outputs": [],
   "source": [
    "def preprocess_image(image, label):\n",
    "    # Normalize pixel values between 0 and 1\n",
    "    image = tf.cast(image, tf.float32) / 255.0\n",
    "    return image, label\n",
    "\n",
    "train_ds = train_ds.map(preprocess_image)\n",
    "val_ds = val_ds.map(preprocess_image)"
   ]
  },
  {
   "cell_type": "code",
   "execution_count": 8,
   "metadata": {},
   "outputs": [
    {
     "name": "stdout",
     "output_type": "stream",
     "text": [
      "Training Dataset: <_PrefetchDataset element_spec=(TensorSpec(shape=(None, 256, 256, 3), dtype=tf.float32, name=None), TensorSpec(shape=(None,), dtype=tf.int32, name=None))>\n",
      "Validation Dataset: <_PrefetchDataset element_spec=(TensorSpec(shape=(None, 256, 256, 3), dtype=tf.float32, name=None), TensorSpec(shape=(None,), dtype=tf.int32, name=None))>\n"
     ]
    }
   ],
   "source": [
    "# Optional: Improve performance by caching and prefetching\n",
    "AUTOTUNE = tf.data.AUTOTUNE\n",
    "train_ds = train_ds.cache().prefetch(buffer_size=AUTOTUNE)\n",
    "val_ds = val_ds.cache().prefetch(buffer_size=AUTOTUNE)\n",
    "\n",
    "# Check the structure of the datasets\n",
    "print(\"Training Dataset:\", train_ds)\n",
    "print(\"Validation Dataset:\", val_ds)"
   ]
  },
  {
   "cell_type": "markdown",
   "metadata": {},
   "source": [
    "TRAINING"
   ]
  },
  {
   "cell_type": "code",
   "execution_count": 15,
   "metadata": {},
   "outputs": [],
   "source": [
    "from tensorflow.keras import layers, Model\n",
    "from tensorflow.keras.models import Sequential\n",
    "from tensorflow.keras.applications import DenseNet121"
   ]
  },
  {
   "cell_type": "code",
   "execution_count": 12,
   "metadata": {},
   "outputs": [],
   "source": [
    "# Define Darknet-53 with initial layers\n",
    "def darknet53(input_shape=(224, 224, 3)):\n",
    "    inputs = tf.keras.Input(shape=input_shape)\n",
    "    \n",
    "    # Initial Conv Layer\n",
    "    x = layers.Conv2D(32, (3, 3), strides=(1, 1), padding='same', activation='relu')(inputs)\n",
    "    x = layers.BatchNormalization()(x)\n",
    "    \n",
    "    # Darknet-53 residual block with a convolution shortcut when increasing filters\n",
    "    def darknet_residual_block(x, filters):\n",
    "        # Shortcut connection\n",
    "        shortcut = x\n",
    "\n",
    "        # First Conv layer with 1x1 kernel\n",
    "        x = layers.Conv2D(filters, (1, 1), padding='same', activation='relu')(x)\n",
    "        x = layers.BatchNormalization()(x)\n",
    "        \n",
    "        # Second Conv layer with 3x3 kernel\n",
    "        x = layers.Conv2D(filters * 2, (3, 3), padding='same', activation='relu')(x)\n",
    "        x = layers.BatchNormalization()(x)\n",
    "        \n",
    "        # Match dimensions for shortcut if necessary\n",
    "        if shortcut.shape[-1] != x.shape[-1]:  # Check if the number of filters changed\n",
    "            shortcut = layers.Conv2D(filters * 2, (1, 1), padding='same')(shortcut)\n",
    "        \n",
    "        # Add the shortcut\n",
    "        return layers.Add()([shortcut, x])\n",
    "\n",
    "    # Stack of residual blocks with increasing filter sizes\n",
    "    for filters in [32, 64, 128, 256]:\n",
    "        x = darknet_residual_block(x, filters)\n",
    "    \n",
    "    # Output block for feature extraction\n",
    "    darknet_output = layers.GlobalAveragePooling2D()(x)\n",
    "    return Model(inputs, darknet_output, name=\"darknet53\")"
   ]
  },
  {
   "cell_type": "code",
   "execution_count": 13,
   "metadata": {},
   "outputs": [
    {
     "name": "stdout",
     "output_type": "stream",
     "text": [
      "Downloading data from https://storage.googleapis.com/tensorflow/keras-applications/densenet/densenet121_weights_tf_dim_ordering_tf_kernels_notop.h5\n",
      "29084464/29084464 [==============================] - 4s 0us/step\n"
     ]
    }
   ],
   "source": [
    "# Load Darknet-53 model and DenseNet model\n",
    "darknet_model = darknet53()\n",
    "\n",
    "# Load pre-trained DenseNet and extract layers up to a certain depth\n",
    "densenet_base = DenseNet121(include_top=False, weights='imagenet', input_shape=(224, 224, 3))\n",
    "densenet_output = layers.GlobalAveragePooling2D()(densenet_base.output)\n",
    "densenet_model = Model(densenet_base.input, densenet_output, name=\"densenet121\")"
   ]
  },
  {
   "cell_type": "code",
   "execution_count": 19,
   "metadata": {},
   "outputs": [],
   "source": [
    "# Combine the models using Concatenate\n",
    "input_layer = tf.keras.Input(shape=(224, 224, 3))\n",
    "\n",
    "# Pass input through Darknet and DenseNet models\n",
    "darknet_features = darknet_model(input_layer)\n",
    "densenet_features = densenet_model(input_layer)"
   ]
  },
  {
   "cell_type": "code",
   "execution_count": 20,
   "metadata": {},
   "outputs": [],
   "source": [
    "combined_features = layers.Concatenate()([darknet_features, densenet_features])\n",
    "\n",
    "# Add a few fully connected layers after concatenation\n",
    "x = layers.Dense(128, activation='relu')(combined_features)\n",
    "x = layers.Dense(64,activation='relu')(x)\n",
    "x = layers.Dense(32,activation='relu')(x)\n",
    "x = layers.Dense(8,activation='relu')(x)\n",
    "x = layers.Dense(2,activation='relu')(x)\n",
    "\n",
    "output = layers.Dense(2, activation='softmax')(x)  # Adjust number of classes as needed"
   ]
  },
  {
   "cell_type": "code",
   "execution_count": 21,
   "metadata": {},
   "outputs": [
    {
     "name": "stdout",
     "output_type": "stream",
     "text": [
      "Model: \"combined_darknet_densenet\"\n",
      "__________________________________________________________________________________________________\n",
      " Layer (type)                Output Shape                 Param #   Connected to                  \n",
      "==================================================================================================\n",
      " input_4 (InputLayer)        [(None, 224, 224, 3)]        0         []                            \n",
      "                                                                                                  \n",
      " darknet53 (Functional)      (None, 512)                  1837024   ['input_4[0][0]']             \n",
      "                                                                                                  \n",
      " densenet121 (Functional)    (None, 1024)                 7037504   ['input_4[0][0]']             \n",
      "                                                                                                  \n",
      " concatenate_1 (Concatenate  (None, 1536)                 0         ['darknet53[0][0]',           \n",
      " )                                                                   'densenet121[0][0]']         \n",
      "                                                                                                  \n",
      " dense (Dense)               (None, 128)                  196736    ['concatenate_1[0][0]']       \n",
      "                                                                                                  \n",
      " dense_1 (Dense)             (None, 64)                   8256      ['dense[0][0]']               \n",
      "                                                                                                  \n",
      " dense_2 (Dense)             (None, 32)                   2080      ['dense_1[0][0]']             \n",
      "                                                                                                  \n",
      " dense_3 (Dense)             (None, 8)                    264       ['dense_2[0][0]']             \n",
      "                                                                                                  \n",
      " dense_4 (Dense)             (None, 2)                    18        ['dense_3[0][0]']             \n",
      "                                                                                                  \n",
      " dense_5 (Dense)             (None, 2)                    6         ['dense_4[0][0]']             \n",
      "                                                                                                  \n",
      "==================================================================================================\n",
      "Total params: 9081888 (34.64 MB)\n",
      "Trainable params: 8995296 (34.31 MB)\n",
      "Non-trainable params: 86592 (338.25 KB)\n",
      "__________________________________________________________________________________________________\n"
     ]
    }
   ],
   "source": [
    "# Define the final model\n",
    "combined_model = Model(inputs=input_layer, outputs=output, name=\"combined_darknet_densenet\")\n",
    "\n",
    "# Compile the model\n",
    "combined_model.compile(optimizer='adam', loss='categorical_crossentropy', metrics=['accuracy'])\n",
    "\n",
    "# Show model summary\n",
    "combined_model.summary()"
   ]
  },
  {
   "cell_type": "code",
   "execution_count": null,
   "metadata": {},
   "outputs": [],
   "source": []
  }
 ],
 "metadata": {
  "kernelspec": {
   "display_name": "Python 3",
   "language": "python",
   "name": "python3"
  },
  "language_info": {
   "codemirror_mode": {
    "name": "ipython",
    "version": 3
   },
   "file_extension": ".py",
   "mimetype": "text/x-python",
   "name": "python",
   "nbconvert_exporter": "python",
   "pygments_lexer": "ipython3",
   "version": "3.10.11"
  }
 },
 "nbformat": 4,
 "nbformat_minor": 2
}
